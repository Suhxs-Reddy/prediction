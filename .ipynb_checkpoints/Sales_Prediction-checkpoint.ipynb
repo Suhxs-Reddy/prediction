{
 "cells": [
  {
   "cell_type": "markdown",
   "metadata": {
    "id": "7v7STkUDDFmj"
   },
   "source": [
    "# **SALES PREDICTION**"
   ]
  },
  {
   "cell_type": "markdown",
   "metadata": {
    "id": "gR4ovMMjDSg-"
   },
   "source": [
    "Saurabh Kailas (210905033)\n",
    "\n",
    "Varun Reddy (210905131)\n",
    "\n",
    "Suhas Reddy (210905075)"
   ]
  },
  {
   "cell_type": "code",
   "execution_count": 2,
   "metadata": {
    "id": "_AsOMJN4DFN0"
   },
   "outputs": [
    {
     "ename": "ModuleNotFoundError",
     "evalue": "No module named 'xgboost'",
     "output_type": "error",
     "traceback": [
      "\u001b[1;31m---------------------------------------------------------------------------\u001b[0m",
      "\u001b[1;31mModuleNotFoundError\u001b[0m                       Traceback (most recent call last)",
      "Cell \u001b[1;32mIn[2], line 20\u001b[0m\n\u001b[0;32m     18\u001b[0m \u001b[38;5;28;01mfrom\u001b[39;00m \u001b[38;5;21;01msklearn\u001b[39;00m\u001b[38;5;21;01m.\u001b[39;00m\u001b[38;5;21;01mensemble\u001b[39;00m \u001b[38;5;28;01mimport\u001b[39;00m RandomForestRegressor\n\u001b[0;32m     19\u001b[0m \u001b[38;5;28;01mfrom\u001b[39;00m \u001b[38;5;21;01msklearn\u001b[39;00m\u001b[38;5;21;01m.\u001b[39;00m\u001b[38;5;21;01mneighbors\u001b[39;00m \u001b[38;5;28;01mimport\u001b[39;00m KNeighborsRegressor\n\u001b[1;32m---> 20\u001b[0m \u001b[38;5;28;01mfrom\u001b[39;00m \u001b[38;5;21;01mxgboost\u001b[39;00m \u001b[38;5;28;01mimport\u001b[39;00m XGBRegressor\n\u001b[0;32m     22\u001b[0m \u001b[38;5;28;01mfrom\u001b[39;00m \u001b[38;5;21;01mkeras\u001b[39;00m\u001b[38;5;21;01m.\u001b[39;00m\u001b[38;5;21;01mmodels\u001b[39;00m \u001b[38;5;28;01mimport\u001b[39;00m Sequential\n\u001b[0;32m     23\u001b[0m \u001b[38;5;28;01mfrom\u001b[39;00m \u001b[38;5;21;01mkeras\u001b[39;00m\u001b[38;5;21;01m.\u001b[39;00m\u001b[38;5;21;01mlayers\u001b[39;00m \u001b[38;5;28;01mimport\u001b[39;00m Dense\n",
      "\u001b[1;31mModuleNotFoundError\u001b[0m: No module named 'xgboost'"
     ]
    }
   ],
   "source": [
    "import numpy as np\n",
    "import pandas as pd\n",
    "\n",
    "import matplotlib.pyplot as plt\n",
    "import seaborn as sns\n",
    "\n",
    "from scipy import stats\n",
    "import statsmodels.api as sm\n",
    "\n",
    "from sklearn.preprocessing import MinMaxScaler\n",
    "\n",
    "import pickle\n",
    "from os import path\n",
    "\n",
    "from sklearn import metrics\n",
    "from sklearn.model_selection import train_test_split\n",
    "from sklearn.linear_model import LinearRegression\n",
    "from sklearn.ensemble import RandomForestRegressor\n",
    "from sklearn.neighbors import KNeighborsRegressor\n",
    "from xgboost import XGBRegressor\n",
    "\n",
    "from keras.models import Sequential\n",
    "from keras.layers import Dense"
   ]
  },
  {
   "cell_type": "markdown",
   "metadata": {
    "id": "95zYgwceOxoL"
   },
   "source": [
    "# **DATA PREPROCESSING**"
   ]
  },
  {
   "cell_type": "markdown",
   "metadata": {
    "id": "98Hr-rBzFHhZ"
   },
   "source": [
    "**1. Importing Datasets**"
   ]
  },
  {
   "cell_type": "code",
   "execution_count": null,
   "metadata": {
    "id": "mUs5flOQDsRI"
   },
   "outputs": [],
   "source": [
    "data = pd.read_csv('train.csv')\n",
    "stores = pd.read_csv('stores.csv')      # Dataset With Stores Information\n",
    "features = pd.read_csv('features.csv')  # Dataset With Additional Data"
   ]
  },
  {
   "cell_type": "code",
   "execution_count": null,
   "metadata": {
    "colab": {
     "base_uri": "https://localhost:8080/"
    },
    "id": "d66sYDPtDse7",
    "outputId": "21fe06bb-5455-4c54-f5c7-f926a9a86c5d"
   },
   "outputs": [],
   "source": [
    "data.shape"
   ]
  },
  {
   "cell_type": "code",
   "execution_count": null,
   "metadata": {
    "colab": {
     "base_uri": "https://localhost:8080/",
     "height": 206
    },
    "id": "FaNl7xEDFO4W",
    "outputId": "3d0281eb-a0e4-4b71-9e44-60e0689179fb"
   },
   "outputs": [],
   "source": [
    "data.head()"
   ]
  },
  {
   "cell_type": "code",
   "execution_count": null,
   "metadata": {
    "colab": {
     "base_uri": "https://localhost:8080/"
    },
    "id": "V6M4HPfGFO7x",
    "outputId": "0a0d1dda-dd2b-41ef-80e9-7c94bdc3ccbe"
   },
   "outputs": [],
   "source": [
    "stores.shape"
   ]
  },
  {
   "cell_type": "code",
   "execution_count": null,
   "metadata": {
    "colab": {
     "base_uri": "https://localhost:8080/",
     "height": 206
    },
    "id": "XWwJ5ksHFPBm",
    "outputId": "1c5b387c-44d8-43a4-e34b-0e1ebd87d759"
   },
   "outputs": [],
   "source": [
    "stores.head()"
   ]
  },
  {
   "cell_type": "code",
   "execution_count": null,
   "metadata": {
    "colab": {
     "base_uri": "https://localhost:8080/"
    },
    "id": "1YqmUQ_0Ffie",
    "outputId": "fe46cada-e521-4ce5-c01f-c279f7aa9cc0"
   },
   "outputs": [],
   "source": [
    "features.shape"
   ]
  },
  {
   "cell_type": "code",
   "execution_count": null,
   "metadata": {
    "colab": {
     "base_uri": "https://localhost:8080/",
     "height": 313
    },
    "id": "Mwwx1FufFf0O",
    "outputId": "bbeb146f-22fc-4414-fd95-aaa65caff6e1"
   },
   "outputs": [],
   "source": [
    "features.tail()"
   ]
  },
  {
   "cell_type": "markdown",
   "metadata": {
    "id": "940jNPI_Gbi9"
   },
   "source": [
    "**2. Handling Missing Values**"
   ]
  },
  {
   "cell_type": "code",
   "execution_count": null,
   "metadata": {
    "id": "F7-1sPscFmJv"
   },
   "outputs": [],
   "source": [
    "# We fill in the CPI (Consumer Price Index, which is a measure of the average\n",
    "# purchases of the customers) with the median value of that column\n",
    "features[\"CPI\"].fillna(features[\"CPI\"].median(),inplace=True)"
   ]
  },
  {
   "cell_type": "code",
   "execution_count": null,
   "metadata": {
    "id": "N7CtSyZAGunx"
   },
   "outputs": [],
   "source": [
    "# We fill in the Unemployment (Rate) with the median value of that column\n",
    "features[\"Unemployment\"].fillna(features[\"Unemployment\"].median(),inplace=True)"
   ]
  },
  {
   "cell_type": "code",
   "execution_count": null,
   "metadata": {
    "id": "jOKzRKHARN83"
   },
   "outputs": [],
   "source": [
    "for i in range(1,6):\n",
    "  features[\"MarkDown\"+str(i)] = features[\"MarkDown\"+str(i)].apply(lambda x: 0 if x < 0 else x)\n",
    "  features[\"MarkDown\"+str(i)].fillna(value=0,inplace=True)"
   ]
  },
  {
   "cell_type": "markdown",
   "metadata": {
    "id": "3KoMGVz_HFES"
   },
   "source": [
    "**3. Merge the Datasets**"
   ]
  },
  {
   "cell_type": "code",
   "execution_count": null,
   "metadata": {
    "id": "n1jxyltAGurr"
   },
   "outputs": [],
   "source": [
    "data = pd.merge(data,stores,on='Store', how='left')\n",
    "data = pd.merge(data,features,on=['Store','Date'], how='left')"
   ]
  },
  {
   "cell_type": "code",
   "execution_count": null,
   "metadata": {
    "id": "t5OAfk_oGuv5"
   },
   "outputs": [],
   "source": [
    "data['Date'] = pd.to_datetime(data['Date'])   # Convert into Date Objects\n",
    "data.sort_values(by=['Date'],inplace=True)    # Sort the Entries Based on Date"
   ]
  },
  {
   "cell_type": "code",
   "execution_count": null,
   "metadata": {
    "id": "-wbwJALlGu2C"
   },
   "outputs": [],
   "source": [
    "data.set_index(data.Date, inplace=True)                # The Date attribute is used as Index to Identify the Entries\n",
    "data['IsHoliday_x'].isin(data['IsHoliday_y']).all()\n",
    "data.drop(columns='IsHoliday_x',inplace=True)\n",
    "data.rename(columns={\"IsHoliday_y\" : \"IsHoliday\"}, inplace=True)"
   ]
  },
  {
   "cell_type": "code",
   "execution_count": null,
   "metadata": {
    "colab": {
     "base_uri": "https://localhost:8080/",
     "height": 344
    },
    "id": "HEyCZsTmGu6U",
    "outputId": "d94315e5-de29-48b6-9f53-bb024f59684e"
   },
   "outputs": [],
   "source": [
    "data.head()"
   ]
  },
  {
   "cell_type": "markdown",
   "metadata": {
    "id": "Km1SuQDKIxyL"
   },
   "source": [
    "**4. Split the Date Attribute**"
   ]
  },
  {
   "cell_type": "code",
   "execution_count": null,
   "metadata": {
    "id": "_IpZjlwFIWYV"
   },
   "outputs": [],
   "source": [
    "data['Year'] = data['Date'].dt.year\n",
    "data['Month'] = data['Date'].dt.month\n",
    "data['Week'] = data['Date'].dt.isocalendar().week"
   ]
  },
  {
   "cell_type": "code",
   "execution_count": null,
   "metadata": {
    "colab": {
     "base_uri": "https://localhost:8080/",
     "height": 344
    },
    "id": "YuNUyfADIZUp",
    "outputId": "5876506c-2e68-4b63-87c1-6f98ea4e8d35"
   },
   "outputs": [],
   "source": [
    "data.head()"
   ]
  },
  {
   "cell_type": "markdown",
   "metadata": {
    "id": "sDyqb2g_I01X"
   },
   "source": [
    "**5. Outlier Detection**"
   ]
  },
  {
   "cell_type": "code",
   "execution_count": null,
   "metadata": {
    "id": "VsMgVqi7IZZh"
   },
   "outputs": [],
   "source": [
    "# We group on the columns Store and Dept and then take the Weekly_Sales column in each group.\n",
    "# We apply an aggregate function on this column in order to find the maximum, minimum, mean, median,\n",
    "# and standard deviation values. We then ensure there are no missing values."
   ]
  },
  {
   "cell_type": "code",
   "execution_count": null,
   "metadata": {
    "colab": {
     "base_uri": "https://localhost:8080/"
    },
    "id": "4hx2hpq8IZdw",
    "outputId": "e28f1fd9-14c6-4fdb-ca8f-4b21c97d1190"
   },
   "outputs": [],
   "source": [
    "agg_data = data.groupby(['Store', 'Dept']).Weekly_Sales.agg(['max', 'min', 'mean', 'median', 'std']).reset_index()\n",
    "agg_data.isnull().sum()"
   ]
  },
  {
   "cell_type": "code",
   "execution_count": null,
   "metadata": {
    "id": "o0REQkTBIZgw"
   },
   "outputs": [],
   "source": [
    "# We now add the previously calculated aggregated data to the original dataframe.\n",
    "# Then, we remove all rows that still have missing values."
   ]
  },
  {
   "cell_type": "code",
   "execution_count": null,
   "metadata": {
    "colab": {
     "base_uri": "https://localhost:8080/",
     "height": 374
    },
    "id": "J_gdq17NJ_8s",
    "outputId": "ca55833e-8814-46d0-be77-08bfdd71c6e4"
   },
   "outputs": [],
   "source": [
    "store_data = pd.merge(left=data,right=agg_data,on=['Store', 'Dept'],how ='left')\n",
    "store_data.dropna(inplace=True)\n",
    "data = store_data.copy()\n",
    "del store_data\n",
    "\n",
    "data['Date'] = pd.to_datetime(data['Date'])\n",
    "data.sort_values(by=['Date'],inplace=True)\n",
    "data.set_index(data.Date, inplace=True)\n",
    "data.head()"
   ]
  },
  {
   "cell_type": "code",
   "execution_count": null,
   "metadata": {
    "id": "oxs6Hj7jKP73"
   },
   "outputs": [],
   "source": [
    "# Now, we create a new column which contains the sum of the corresponding MarkDowns.\n",
    "# Markdowns represent a reduction in the price of the products. This column contains the total reductions\n",
    "# for the corresponding dates. We then drop the individual MarkDown columns."
   ]
  },
  {
   "cell_type": "code",
   "execution_count": null,
   "metadata": {
    "id": "rJsTZ0WYKP_m"
   },
   "outputs": [],
   "source": [
    "data['Total_MarkDown'] = data['MarkDown1']+data['MarkDown2']+data['MarkDown3']+data['MarkDown4']+data['MarkDown5']\n",
    "data.drop(['MarkDown1','MarkDown2','MarkDown3','MarkDown4','MarkDown5'], axis = 1,inplace=True)"
   ]
  },
  {
   "cell_type": "code",
   "execution_count": 3,
   "metadata": {
    "id": "xp96H7m2K4k-"
   },
   "outputs": [],
   "source": [
    "# Now, we scale the numeric data values to a smaller range by using Z-score."
   ]
  },
  {
   "cell_type": "code",
   "execution_count": 4,
   "metadata": {
    "colab": {
     "base_uri": "https://localhost:8080/"
    },
    "id": "ADhLx9jYK4pV",
    "outputId": "fafb30e0-a3b6-4c42-8981-a4b9f9810be1"
   },
   "outputs": [
    {
     "ename": "NameError",
     "evalue": "name 'data' is not defined",
     "output_type": "error",
     "traceback": [
      "\u001b[1;31m---------------------------------------------------------------------------\u001b[0m",
      "\u001b[1;31mNameError\u001b[0m                                 Traceback (most recent call last)",
      "Cell \u001b[1;32mIn[4], line 2\u001b[0m\n\u001b[0;32m      1\u001b[0m numeric_col \u001b[38;5;241m=\u001b[39m [\u001b[38;5;124m'\u001b[39m\u001b[38;5;124mWeekly_Sales\u001b[39m\u001b[38;5;124m'\u001b[39m,\u001b[38;5;124m'\u001b[39m\u001b[38;5;124mSize\u001b[39m\u001b[38;5;124m'\u001b[39m,\u001b[38;5;124m'\u001b[39m\u001b[38;5;124mTemperature\u001b[39m\u001b[38;5;124m'\u001b[39m,\u001b[38;5;124m'\u001b[39m\u001b[38;5;124mFuel_Price\u001b[39m\u001b[38;5;124m'\u001b[39m,\u001b[38;5;124m'\u001b[39m\u001b[38;5;124mCPI\u001b[39m\u001b[38;5;124m'\u001b[39m,\u001b[38;5;124m'\u001b[39m\u001b[38;5;124mUnemployment\u001b[39m\u001b[38;5;124m'\u001b[39m,\u001b[38;5;124m'\u001b[39m\u001b[38;5;124mTotal_MarkDown\u001b[39m\u001b[38;5;124m'\u001b[39m]\n\u001b[1;32m----> 2\u001b[0m data_numeric \u001b[38;5;241m=\u001b[39m data[numeric_col]\u001b[38;5;241m.\u001b[39mcopy()\n\u001b[0;32m      3\u001b[0m data \u001b[38;5;241m=\u001b[39m data[(np\u001b[38;5;241m.\u001b[39mabs(stats\u001b[38;5;241m.\u001b[39mzscore(data_numeric)) \u001b[38;5;241m<\u001b[39m \u001b[38;5;241m2.5\u001b[39m)\u001b[38;5;241m.\u001b[39mall(axis \u001b[38;5;241m=\u001b[39m \u001b[38;5;241m1\u001b[39m)]\n\u001b[0;32m      4\u001b[0m data\u001b[38;5;241m.\u001b[39mshape\n",
      "\u001b[1;31mNameError\u001b[0m: name 'data' is not defined"
     ]
    }
   ],
   "source": [
    "numeric_col = ['Weekly_Sales','Size','Temperature','Fuel_Price','CPI','Unemployment','Total_MarkDown']\n",
    "data_numeric = data[numeric_col].copy()\n",
    "data = data[(np.abs(stats.zscore(data_numeric)) < 2.5).all(axis = 1)]\n",
    "data.shape"
   ]
  },
  {
   "cell_type": "code",
   "execution_count": null,
   "metadata": {
    "id": "iHuZ9JP1K4ty"
   },
   "outputs": [],
   "source": [
    "# We ensure that all the weekly sales values are greater than or equal to zero\n",
    "data=data[data['Weekly_Sales']>=0]"
   ]
  },
  {
   "cell_type": "code",
   "execution_count": null,
   "metadata": {
    "id": "1NZJCn_2K4xV"
   },
   "outputs": [],
   "source": [
    "# We convert the holiday column into numeric values\n",
    "data['IsHoliday'] = data['IsHoliday'].astype('int')"
   ]
  },
  {
   "cell_type": "code",
   "execution_count": null,
   "metadata": {
    "colab": {
     "base_uri": "https://localhost:8080/",
     "height": 344
    },
    "id": "_bvWjHWlOmSp",
    "outputId": "dda40d3a-98e0-47b1-efab-9216fd28e1e0"
   },
   "outputs": [],
   "source": [
    "data.head()"
   ]
  },
  {
   "cell_type": "code",
   "execution_count": null,
   "metadata": {
    "id": "TI4giul8OmX9"
   },
   "outputs": [],
   "source": [
    "# Store the cleaned and preprocessed data.\n",
    "data.to_csv('./preprocessed_dataset.csv')"
   ]
  },
  {
   "cell_type": "markdown",
   "metadata": {
    "id": "jJYvnuA2O9GE"
   },
   "source": [
    "# **Data Visualisation**"
   ]
  },
  {
   "cell_type": "markdown",
   "metadata": {
    "id": "oDpl9R8oO_8l"
   },
   "source": [
    "**1. Average Monthly Sales**"
   ]
  },
  {
   "cell_type": "code",
   "execution_count": null,
   "metadata": {
    "colab": {
     "base_uri": "https://localhost:8080/",
     "height": 624
    },
    "id": "-8UO83P1Omi7",
    "outputId": "1e33ca58-432d-4e54-bad5-c9b91d8afeee"
   },
   "outputs": [],
   "source": [
    "plt.figure(figsize=(14,8))\n",
    "sns.barplot(x='Month',y='Weekly_Sales',data=data)\n",
    "plt.ylabel('Sales',fontsize=14)\n",
    "plt.xlabel('Months',fontsize=14)\n",
    "plt.title('Average Monthly Sales',fontsize=16)\n",
    "plt.savefig('avg_monthly_sales.png')\n",
    "plt.grid()"
   ]
  },
  {
   "cell_type": "markdown",
   "metadata": {
    "id": "P8lN4zJ3PJsC"
   },
   "source": [
    "**2. Monthly Sales per Year**"
   ]
  },
  {
   "cell_type": "code",
   "execution_count": null,
   "metadata": {
    "colab": {
     "base_uri": "https://localhost:8080/",
     "height": 589
    },
    "id": "n_c8ciwtOmwu",
    "outputId": "6cc45d93-c680-440b-92d5-bc874ec03d5c"
   },
   "outputs": [],
   "source": [
    "data_monthly = pd.crosstab(data[\"Year\"], data[\"Month\"], values=data[\"Weekly_Sales\"],aggfunc='sum')\n",
    "data_monthly\n",
    "\n",
    "fig, axes = plt.subplots(3,4,figsize=(16,8))\n",
    "plt.suptitle('Monthly Sales for each Year', fontsize=18)\n",
    "k=1\n",
    "for i in range(3):\n",
    "    for j in range(4):\n",
    "      sns.lineplot(ax=axes[i,j],data=data_monthly[k])\n",
    "      plt.subplots_adjust(wspace=0.4,hspace=0.32)\n",
    "      plt.ylabel(k,fontsize=12)\n",
    "      plt.xlabel('Years',fontsize=12)\n",
    "      k+=1\n",
    "\n",
    "plt.savefig('monthly_sales_every_year.png')\n",
    "plt.show()"
   ]
  },
  {
   "cell_type": "markdown",
   "metadata": {
    "id": "tx9SAXzzPYJh"
   },
   "source": [
    "# **Time Series Decompose**"
   ]
  },
  {
   "cell_type": "code",
   "execution_count": null,
   "metadata": {
    "id": "hSesWtP_PcCW"
   },
   "outputs": [],
   "source": [
    "# We break the dataset into 3 components.\n",
    "# The Trend Component shows how the data increases or decreases over time.\n",
    "# The Seasonal Component represents the repeating patterns that appear consistenly over the same time intervals.\n",
    "# The Residual Component represents the fluctuations in the data not belonging to the trend or seasonal patterns."
   ]
  },
  {
   "cell_type": "code",
   "execution_count": null,
   "metadata": {
    "colab": {
     "base_uri": "https://localhost:8080/",
     "height": 487
    },
    "id": "IdZdp4mxPcI4",
    "outputId": "772713ab-99ed-4f26-c7ef-4cee1b406628"
   },
   "outputs": [],
   "source": [
    "sm.tsa.seasonal_decompose(data['Weekly_Sales'].resample('MS').mean(), model='additive').plot()\n",
    "plt.savefig('seasonal_decompose.png')\n",
    "plt.show()"
   ]
  },
  {
   "cell_type": "markdown",
   "metadata": {
    "id": "2505trSFSAK6"
   },
   "source": [
    "# **One-Hot Encoding**"
   ]
  },
  {
   "cell_type": "markdown",
   "metadata": {
    "id": "xjAnzbwOTPoC"
   },
   "source": [
    "One-Hot Encoding is used to convert categorical values into numerical values. Each category is represented using a binary variable. If True or 1, then the corresponding category is present, else it is not present."
   ]
  },
  {
   "cell_type": "code",
   "execution_count": null,
   "metadata": {
    "id": "2UYw9CruSCtn"
   },
   "outputs": [],
   "source": [
    "# Now, we take the categorical value columns.\n",
    "cat_col = ['Store','Dept','Type']\n",
    "data_cat = data[cat_col].copy()"
   ]
  },
  {
   "cell_type": "code",
   "execution_count": null,
   "metadata": {
    "colab": {
     "base_uri": "https://localhost:8080/",
     "height": 238
    },
    "id": "vV0jTvrak-em",
    "outputId": "f9a500d6-d4b3-40e9-a17f-66d5ab7cc006"
   },
   "outputs": [],
   "source": [
    "data_cat.head()"
   ]
  },
  {
   "cell_type": "code",
   "execution_count": null,
   "metadata": {
    "id": "i92DNYS0SCyw"
   },
   "outputs": [],
   "source": [
    "# We perform One-Hot Encoding on the categorical values.\n",
    "data_cat = pd.get_dummies(data_cat,columns=cat_col)"
   ]
  },
  {
   "cell_type": "code",
   "execution_count": null,
   "metadata": {
    "id": "iiVR_FNUm4-f"
   },
   "outputs": [],
   "source": [
    "data_cat = data_cat.astype(int)"
   ]
  },
  {
   "cell_type": "code",
   "execution_count": null,
   "metadata": {
    "colab": {
     "base_uri": "https://localhost:8080/",
     "height": 374
    },
    "id": "HdVREKHFlDyn",
    "outputId": "20bbbf1e-462e-41b2-bdd0-c2825b243421"
   },
   "outputs": [],
   "source": [
    "data_cat.head()"
   ]
  },
  {
   "cell_type": "code",
   "execution_count": null,
   "metadata": {
    "id": "RfTirjjRSC4E"
   },
   "outputs": [],
   "source": [
    "data = pd.concat([data, data_cat],axis=1)\n",
    "data.drop(columns=cat_col,inplace=True)\n",
    "data.drop(columns=['Date'],inplace=True)"
   ]
  },
  {
   "cell_type": "code",
   "execution_count": null,
   "metadata": {
    "colab": {
     "base_uri": "https://localhost:8080/",
     "height": 374
    },
    "id": "y_52rVE1TGd0",
    "outputId": "77376bf4-bf23-4b40-ed9c-febcb42eba9d"
   },
   "outputs": [],
   "source": [
    "data.head()"
   ]
  },
  {
   "cell_type": "markdown",
   "metadata": {
    "id": "eLdG5xkdTfEm"
   },
   "source": [
    "# **Data Normalisation**"
   ]
  },
  {
   "cell_type": "code",
   "execution_count": null,
   "metadata": {
    "id": "gxJNEqjBTh_a"
   },
   "outputs": [],
   "source": [
    "num_col = ['Weekly_Sales','Size','Temperature','Fuel_Price','CPI','Unemployment','Total_MarkDown','max','min','mean','median','std']"
   ]
  },
  {
   "cell_type": "code",
   "execution_count": null,
   "metadata": {
    "id": "OPIXryVETpFr"
   },
   "outputs": [],
   "source": [
    "# We normalise the data using MinMax Scaling.\n",
    "# We fit all the values in the range of 0 to 1."
   ]
  },
  {
   "cell_type": "code",
   "execution_count": null,
   "metadata": {
    "id": "ja6BJvlkTiEb"
   },
   "outputs": [],
   "source": [
    "minmax_scale = MinMaxScaler(feature_range=(0, 1))\n",
    "def normalization(df,col):\n",
    "  for i in col:\n",
    "    arr = df[i]\n",
    "    arr = np.array(arr)\n",
    "    df[i] = minmax_scale.fit_transform(arr.reshape(len(arr),1))\n",
    "  return df"
   ]
  },
  {
   "cell_type": "code",
   "execution_count": null,
   "metadata": {
    "id": "oBKFIAVrTiI7"
   },
   "outputs": [],
   "source": [
    "data = normalization(data.copy(),num_col)"
   ]
  },
  {
   "cell_type": "code",
   "execution_count": null,
   "metadata": {
    "colab": {
     "base_uri": "https://localhost:8080/",
     "height": 374
    },
    "id": "5KAfvxqTTiNn",
    "outputId": "372436ec-bb19-43d4-d1e9-946390c24d28"
   },
   "outputs": [],
   "source": [
    "data.head()"
   ]
  },
  {
   "cell_type": "markdown",
   "metadata": {
    "id": "XIXBsuzKVBMx"
   },
   "source": [
    "# **Split the Data into Training and Testing Sets**"
   ]
  },
  {
   "cell_type": "code",
   "execution_count": null,
   "metadata": {
    "id": "VZkLBMI4VF2g"
   },
   "outputs": [],
   "source": [
    "X = data.drop(['Weekly_Sales'],axis=1)\n",
    "Y = data.Weekly_Sales"
   ]
  },
  {
   "cell_type": "code",
   "execution_count": null,
   "metadata": {
    "id": "MReQGKJ8VF9b"
   },
   "outputs": [],
   "source": [
    "# If the code is run multiple times with the same random_state value, the same\n",
    "# split of the data into training and testing sets will be obtained every time.\n",
    "X_train,X_test,y_train,y_test = train_test_split(X,Y,test_size=0.20, random_state=50)"
   ]
  },
  {
   "cell_type": "markdown",
   "metadata": {
    "id": "a4ml3mPEXBYW"
   },
   "source": [
    "X : Independent Variables.\n",
    "\n",
    "Y : Dependent Variables.\n",
    "\n",
    "X_train : Subset of X for training the model.\n",
    "\n",
    "X_test : Subset of X for testing the model.\n",
    "\n",
    "y_train : Subset of Y for training the model.\n",
    "\n",
    "y_test : Subset of Y for testing the model."
   ]
  },
  {
   "cell_type": "markdown",
   "metadata": {
    "id": "ScY4B2h3WMhe"
   },
   "source": [
    "# **Linear Regression Model**"
   ]
  },
  {
   "cell_type": "code",
   "execution_count": null,
   "metadata": {
    "colab": {
     "base_uri": "https://localhost:8080/",
     "height": 75
    },
    "id": "WuOvp6eTVGFk",
    "outputId": "c8704d62-2218-49b1-d6ea-d9af0df7b532"
   },
   "outputs": [],
   "source": [
    "# The fit methods finds the regression coefficients that best fit the training data.\n",
    "# The coefficients are calculated by minimising the sum of squares between the observed target values\n",
    "# and the predicted values.\n",
    "lr = LinearRegression()\n",
    "lr.fit(X_train, y_train)"
   ]
  },
  {
   "cell_type": "code",
   "execution_count": null,
   "metadata": {
    "colab": {
     "base_uri": "https://localhost:8080/"
    },
    "id": "0cIlTNFAVGNA",
    "outputId": "61096c35-c52c-4e2d-b439-d68ef45c24ea"
   },
   "outputs": [],
   "source": [
    "lr_acc = lr.score(X_test,y_test)*100\n",
    "print(\"Linear Regressor Accuracy - \",lr_acc)"
   ]
  },
  {
   "cell_type": "code",
   "execution_count": null,
   "metadata": {
    "id": "1ybzcpPDYDWr"
   },
   "outputs": [],
   "source": [
    "# Make predictions for the X_test data.\n",
    "y_pred = lr.predict(X_test)"
   ]
  },
  {
   "cell_type": "code",
   "execution_count": null,
   "metadata": {
    "colab": {
     "base_uri": "https://localhost:8080/"
    },
    "id": "79tIPCEvYDdE",
    "outputId": "426510b5-63f4-4637-8bfa-cd437e078aa1"
   },
   "outputs": [],
   "source": [
    "print(\"MAE\" , metrics.mean_absolute_error(y_test, y_pred))\n",
    "print(\"MSE\" , metrics.mean_squared_error(y_test, y_pred))\n",
    "print(\"RMSE\" , np.sqrt(metrics.mean_squared_error(y_test, y_pred)))\n",
    "print(\"R2\" , metrics.explained_variance_score(y_test, y_pred))"
   ]
  },
  {
   "cell_type": "code",
   "execution_count": null,
   "metadata": {
    "colab": {
     "base_uri": "https://localhost:8080/",
     "height": 719
    },
    "id": "RXceC_8IYcPs",
    "outputId": "17f953ac-3474-45f3-deb0-7f98bf6ecd2e"
   },
   "outputs": [],
   "source": [
    "plt.figure(figsize=(20,8))\n",
    "plt.title(\"Linear Regression Model Predictions\")\n",
    "plt.plot(lr.predict(X_test[:200]), label=\"prediction\", linewidth=2.0,color='blue')\n",
    "plt.plot(y_test[:200].values, label=\"real_values\", linewidth=2.0,color='lightcoral')\n",
    "plt.legend(loc=\"best\")\n",
    "plt.savefig('lr_real_pred.png')\n",
    "plt.show()"
   ]
  },
  {
   "cell_type": "markdown",
   "metadata": {
    "id": "-p1RFbFJYgOu"
   },
   "source": [
    "# **XGBoost Model**"
   ]
  },
  {
   "cell_type": "code",
   "execution_count": null,
   "metadata": {
    "colab": {
     "base_uri": "https://localhost:8080/",
     "height": 248
    },
    "id": "yGY_vBeOYcUO",
    "outputId": "3c380635-54ea-4cc5-b4a0-257d35b5c89c"
   },
   "outputs": [],
   "source": [
    "xgbr = XGBRegressor()\n",
    "xgbr.fit(X_train, y_train)"
   ]
  },
  {
   "cell_type": "code",
   "execution_count": null,
   "metadata": {
    "colab": {
     "base_uri": "https://localhost:8080/"
    },
    "id": "MoLahI7JYcZY",
    "outputId": "25f1fc90-1cfe-4915-bfee-6d88f666ab53"
   },
   "outputs": [],
   "source": [
    "xgb_acc = xgbr.score(X_test,y_test)*100\n",
    "print(\"XGBoost Regressor Accuracy - \",xgb_acc)"
   ]
  },
  {
   "cell_type": "code",
   "execution_count": null,
   "metadata": {
    "id": "L4fx6HZYYce6"
   },
   "outputs": [],
   "source": [
    "y_pred = xgbr.predict(X_test)"
   ]
  },
  {
   "cell_type": "code",
   "execution_count": null,
   "metadata": {
    "colab": {
     "base_uri": "https://localhost:8080/"
    },
    "id": "rYkDeEJOYcjv",
    "outputId": "a3b91c9e-e337-4083-d9f6-d5234a244390"
   },
   "outputs": [],
   "source": [
    "print(\"MAE\" , metrics.mean_absolute_error(y_test, y_pred))\n",
    "print(\"MSE\" , metrics.mean_squared_error(y_test, y_pred))\n",
    "print(\"RMSE\" , np.sqrt(metrics.mean_squared_error(y_test, y_pred)))\n",
    "print(\"R2\" , metrics.explained_variance_score(y_test, y_pred))"
   ]
  },
  {
   "cell_type": "code",
   "execution_count": null,
   "metadata": {
    "colab": {
     "base_uri": "https://localhost:8080/",
     "height": 449
    },
    "id": "sj10SGn7YsVt",
    "outputId": "1a2dd394-2b9e-420b-9783-f4749bad4831"
   },
   "outputs": [],
   "source": [
    "plt.figure(figsize=(20,8))\n",
    "plt.title(\"XGBoost Predictions\")\n",
    "plt.plot(xgbr.predict(X_test[:200]), label=\"prediction\", linewidth=2.0,color='blue')\n",
    "plt.plot(y_test[:200].values, label=\"real_values\", linewidth=2.0,color='lightcoral')\n",
    "plt.legend(loc=\"best\")\n",
    "plt.savefig('xgb_real_pred.png')\n",
    "plt.show()"
   ]
  },
  {
   "cell_type": "markdown",
   "metadata": {
    "id": "T6ogTxKlY6i-"
   },
   "source": [
    "# **K-Nearest Neighbours Model**"
   ]
  },
  {
   "cell_type": "code",
   "execution_count": null,
   "metadata": {
    "colab": {
     "base_uri": "https://localhost:8080/",
     "height": 75
    },
    "id": "CF3IL5lYYsba",
    "outputId": "42d2a55b-811a-4261-b282-9d0f2410ae99"
   },
   "outputs": [],
   "source": [
    "knn = KNeighborsRegressor(n_neighbors = 1,weights = 'uniform')\n",
    "knn.fit(X_train,y_train)"
   ]
  },
  {
   "cell_type": "code",
   "execution_count": null,
   "metadata": {
    "colab": {
     "base_uri": "https://localhost:8080/"
    },
    "id": "NQhJCcEAZJgZ",
    "outputId": "35f49cf6-8072-4e32-ea2d-d01cae74ade4"
   },
   "outputs": [],
   "source": [
    "knn_acc = knn.score(X_test, y_test)*100\n",
    "print(\"KNN Regressor Accuracy - \",knn_acc)"
   ]
  },
  {
   "cell_type": "code",
   "execution_count": null,
   "metadata": {
    "id": "P7tIXunBZJno"
   },
   "outputs": [],
   "source": [
    "y_pred = knn.predict(X_test)"
   ]
  },
  {
   "cell_type": "code",
   "execution_count": null,
   "metadata": {
    "colab": {
     "base_uri": "https://localhost:8080/"
    },
    "id": "Sb8X1e1_ZJtQ",
    "outputId": "488f50e1-80ce-4fb2-e05d-2004d710e269"
   },
   "outputs": [],
   "source": [
    "print(\"MAE\" , metrics.mean_absolute_error(y_test, y_pred))\n",
    "print(\"MSE\" , metrics.mean_squared_error(y_test, y_pred))\n",
    "print(\"RMSE\" , np.sqrt(metrics.mean_squared_error(y_test, y_pred)))\n",
    "print(\"R2\" , metrics.explained_variance_score(y_test, y_pred))"
   ]
  },
  {
   "cell_type": "code",
   "execution_count": null,
   "metadata": {
    "colab": {
     "base_uri": "https://localhost:8080/",
     "height": 435
    },
    "id": "eZJoWuMiZToV",
    "outputId": "092dec7a-afde-405f-fb6b-8dde65039ca4"
   },
   "outputs": [],
   "source": [
    "plt.figure(figsize=(20,8))\n",
    "plt.plot(knn.predict(X_test[:200]), label=\"prediction\", linewidth=2.0,color='blue')\n",
    "plt.plot(y_test[:200].values, label=\"real_values\", linewidth=2.0,color='lightcoral')\n",
    "plt.legend(loc=\"best\")\n",
    "plt.savefig('knn_real_pred.png')\n",
    "plt.show()"
   ]
  },
  {
   "cell_type": "markdown",
   "metadata": {
    "id": "eq3cGwuiZ-Xe"
   },
   "source": [
    "# **Random Forest**"
   ]
  },
  {
   "cell_type": "code",
   "execution_count": null,
   "metadata": {
    "colab": {
     "base_uri": "https://localhost:8080/",
     "height": 75
    },
    "id": "FqKSPX1TZTtg",
    "outputId": "29bcb9fa-79e1-4f42-c7bc-a1632c853100"
   },
   "outputs": [],
   "source": [
    "rf = RandomForestRegressor()\n",
    "rf.fit(X_train, y_train)"
   ]
  },
  {
   "cell_type": "code",
   "execution_count": null,
   "metadata": {
    "colab": {
     "base_uri": "https://localhost:8080/"
    },
    "id": "ULpygfkgZT68",
    "outputId": "147ddc5e-c1de-4f5a-9f3c-48d1aec68982"
   },
   "outputs": [],
   "source": [
    "rf_acc = rf.score(X_test,y_test)*100\n",
    "print(\"Random Forest Regressor Accuracy - \",rf_acc)"
   ]
  },
  {
   "cell_type": "code",
   "execution_count": null,
   "metadata": {
    "id": "HClhkaOjZU6W"
   },
   "outputs": [],
   "source": [
    "y_pred = rf.predict(X_test)"
   ]
  },
  {
   "cell_type": "code",
   "execution_count": null,
   "metadata": {
    "colab": {
     "base_uri": "https://localhost:8080/"
    },
    "id": "TlSuWFDKZVGB",
    "outputId": "4934d8b9-d4d6-494d-c356-d47c34bbcef3"
   },
   "outputs": [],
   "source": [
    "print(\"MAE\" , metrics.mean_absolute_error(y_test, y_pred))\n",
    "print(\"MSE\" , metrics.mean_squared_error(y_test, y_pred))\n",
    "print(\"RMSE\" , np.sqrt(metrics.mean_squared_error(y_test, y_pred)))\n",
    "print(\"R2\" , metrics.explained_variance_score(y_test, y_pred))"
   ]
  },
  {
   "cell_type": "code",
   "execution_count": null,
   "metadata": {
    "colab": {
     "base_uri": "https://localhost:8080/",
     "height": 435
    },
    "id": "yukufzJAaGyP",
    "outputId": "548b4724-a4d4-4672-ae7d-fe179137e3fb"
   },
   "outputs": [],
   "source": [
    "plt.figure(figsize=(20,8))\n",
    "plt.plot(rf.predict(X_test[:200]), label=\"prediction\", linewidth=2.0,color='blue')\n",
    "plt.plot(y_test[:200].values, label=\"real_values\", linewidth=2.0,color='lightcoral')\n",
    "plt.legend(loc=\"best\")\n",
    "plt.savefig('rf_real_pred.png')\n",
    "plt.show()"
   ]
  },
  {
   "cell_type": "markdown",
   "metadata": {
    "id": "IjDRXhUAaJL0"
   },
   "source": [
    "# **Deep Neural Network**"
   ]
  },
  {
   "cell_type": "markdown",
   "metadata": {
    "id": "huc-kFNwehGh"
   },
   "source": [
    "We create a simple neural network for regression. The first layer has 64 neurons and uses ReLU as activation function. This layer takes the input from the X_train data. The second layer has 32 neurons. The third layer has only one neuron, which is the output layer for the regression.\n",
    "\n",
    "ReLU : Stands for Rectified Linear Unit. It is an activation function that returns the input value X if X > 0, else it returns 0. It is a linear function that is zero for negative inputs and increases linearly for positive inputs. Activation functions are applied to the outputs of each neuron in order to add non-linearity and allow the network to recognise complex patterns and relationships."
   ]
  },
  {
   "cell_type": "code",
   "execution_count": null,
   "metadata": {
    "id": "c1S7O2oMaG4p"
   },
   "outputs": [],
   "source": [
    "import tensorflow as tf\n",
    "from tensorflow.keras.models import Sequential\n",
    "from tensorflow.keras.layers import Dense\n",
    "\n",
    "\n",
    "input_dim = X_train.shape[1] # Number of Input Features\n",
    "\n",
    "def create_model():\n",
    "  model = Sequential()\n",
    "  model.add(Dense(64, input_dim=X_train.shape[1], kernel_initializer='normal',activation='relu'))\n",
    "  model.add(Dense(32, kernel_initializer='normal'))\n",
    "  model.add(Dense(1, kernel_initializer='normal'))\n",
    "  model.compile(loss='mean_absolute_error', optimizer='adam')\n",
    "  return model"
   ]
  },
  {
   "cell_type": "code",
   "execution_count": null,
   "metadata": {
    "id": "9fNlOjHaf0K6"
   },
   "outputs": [],
   "source": [
    "dnn_model = create_model()"
   ]
  },
  {
   "cell_type": "code",
   "execution_count": null,
   "metadata": {
    "id": "NHl5S1lxf0RN"
   },
   "outputs": [],
   "source": [
    "X_train,X_test,y_train,y_test = train_test_split(X,Y,test_size=0.20, random_state=50)"
   ]
  },
  {
   "cell_type": "code",
   "execution_count": null,
   "metadata": {
    "id": "CgiE7sb-nwgo"
   },
   "outputs": [],
   "source": [
    "X_train = X_train.astype(float)\n",
    "y_train = y_train.astype(float)\n",
    "X_test = X_test.astype(float)\n",
    "y_test = y_test.astype(float)"
   ]
  },
  {
   "cell_type": "markdown",
   "metadata": {
    "id": "pP7Sj3tNn1kp"
   },
   "source": [
    "Now, we train the deep model using the training data. The epochs parameter indicates the number of times the training dataset is passed forward and backward through the neural network during training. In each epoch, the forward pass computes the predictions and the backward pass updates the weights."
   ]
  },
  {
   "cell_type": "code",
   "execution_count": null,
   "metadata": {
    "colab": {
     "base_uri": "https://localhost:8080/"
    },
    "id": "kkpsM0rff0Wv",
    "outputId": "d751deb7-ab76-4d80-cc15-2651f5df86db"
   },
   "outputs": [],
   "source": [
    "history = dnn_model.fit(X_train, y_train, validation_split=0.2, epochs=100, batch_size=5000)"
   ]
  },
  {
   "cell_type": "code",
   "execution_count": null,
   "metadata": {
    "colab": {
     "base_uri": "https://localhost:8080/"
    },
    "id": "5MY6GizLoWom",
    "outputId": "6e294fbd-df35-4eba-bee8-5f2ea8ad67df"
   },
   "outputs": [],
   "source": [
    "dnn_acc = metrics.r2_score(y_pred, y_test)*100\n",
    "print(\"Deep Neural Network accuracy - \",dnn_acc)"
   ]
  },
  {
   "cell_type": "code",
   "execution_count": null,
   "metadata": {
    "colab": {
     "base_uri": "https://localhost:8080/"
    },
    "id": "gQIL3LcHobLE",
    "outputId": "eb5058ee-6708-46cf-c9dc-ae4ebb632ada"
   },
   "outputs": [],
   "source": [
    "y_pred = dnn_model.predict(X_test)"
   ]
  },
  {
   "cell_type": "code",
   "execution_count": null,
   "metadata": {
    "colab": {
     "base_uri": "https://localhost:8080/"
    },
    "id": "v_5TciMTobS1",
    "outputId": "9bf893b3-0500-4391-bb3e-3658a3120a20"
   },
   "outputs": [],
   "source": [
    "print(\"MAE\" , metrics.mean_absolute_error(y_test, y_pred))\n",
    "print(\"MSE\" , metrics.mean_squared_error(y_test, y_pred))\n",
    "print(\"RMSE\" , np.sqrt(metrics.mean_squared_error(y_test, y_pred)))\n",
    "print(\"R2\" , metrics.explained_variance_score(y_test, y_pred))"
   ]
  },
  {
   "cell_type": "code",
   "execution_count": null,
   "metadata": {
    "colab": {
     "base_uri": "https://localhost:8080/",
     "height": 484
    },
    "id": "TyPpa9v9obbX",
    "outputId": "b47a69b2-ea3e-4ed0-e9eb-b48df7ded2f7"
   },
   "outputs": [],
   "source": [
    "plt.figure(figsize=(20,8))\n",
    "plt.title(\"Deep Neural Network Predictions\")\n",
    "plt.plot(dnn_model.predict(X_test[200:300]), label=\"prediction\", linewidth=2.0,color='blue')\n",
    "plt.plot(y_test[200:300].values, label=\"real_values\", linewidth=2.0,color='lightcoral')\n",
    "plt.savefig('dnn_real_pred.png')\n",
    "plt.legend(loc=\"best\")"
   ]
  },
  {
   "cell_type": "markdown",
   "metadata": {
    "id": "ry4ftj8vo3UB"
   },
   "source": [
    "# **Comparing the Models**"
   ]
  },
  {
   "cell_type": "code",
   "execution_count": null,
   "metadata": {
    "id": "BJfDaaKXobiT"
   },
   "outputs": [],
   "source": [
    "acc = {'model':['lr_acc', 'xgb_acc','dnn_acc', 'knn_acc', 'rf_acc'],'accuracy':[lr_acc,xgb_acc,dnn_acc, knn_acc, rf_acc]}\n",
    "acc_df = pd.DataFrame(acc)"
   ]
  },
  {
   "cell_type": "code",
   "execution_count": null,
   "metadata": {
    "colab": {
     "base_uri": "https://localhost:8080/",
     "height": 542
    },
    "id": "yZfC16iso-DV",
    "outputId": "3324ab21-0617-4173-8965-9f172a27bb95"
   },
   "outputs": [],
   "source": [
    "plt.figure(figsize=(4,6))\n",
    "sns.barplot(x='model',y='accuracy',data=acc_df)\n",
    "plt.savefig('compared_models.png')\n",
    "plt.show()"
   ]
  }
 ],
 "metadata": {
  "colab": {
   "provenance": []
  },
  "kernelspec": {
   "display_name": "Python 3 (ipykernel)",
   "language": "python",
   "name": "python3"
  },
  "language_info": {
   "codemirror_mode": {
    "name": "ipython",
    "version": 3
   },
   "file_extension": ".py",
   "mimetype": "text/x-python",
   "name": "python",
   "nbconvert_exporter": "python",
   "pygments_lexer": "ipython3",
   "version": "3.11.3"
  }
 },
 "nbformat": 4,
 "nbformat_minor": 1
}
